{
 "cells": [
  {
   "cell_type": "code",
   "execution_count": 68,
   "metadata": {},
   "outputs": [],
   "source": [
    "import os\n",
    "import psycopg2"
   ]
  },
  {
   "cell_type": "code",
   "execution_count": 69,
   "metadata": {},
   "outputs": [],
   "source": [
    "conn = psycopg2.connect(database=\"F1_DB\",\n",
    "                        user = \"postgres\", password = \"postgres\",\n",
    "                        host=\"127.0.0.1\", port=\"5432\")\n",
    "conn.autocommit = True\n",
    "cursor = conn.cursor()\n",
    "\n",
    "sql1 = '''CREATE TABLE CIRCUITS (circuitId int NOT NULL,\n",
    "    circuitRef varchar(40),\n",
    "    name varchar(40),\n",
    "    location varchar(40),\n",
    "    country varchar(40),\n",
    "    lat float,\n",
    "    lng float,\n",
    "    alt int,\n",
    "    url varchar(100))'''\n",
    "\n",
    "cursor.execute(sql1)\n",
    "\n",
    "sql2 = '''COPY circuits(circuitId,circuitRef,name,location,country,lat,lng,alt,url)\\\n",
    "        FROM '/Users/noahhowren/Documents/PITLANE/f1db_csv/circuits.csv'\\\n",
    "        WITH (FORMAT CSV, NULL '\\\\N', HEADER);'''\n",
    "\n",
    "cursor.execute(sql2)\n"
   ]
  },
  {
   "cell_type": "code",
   "execution_count": 70,
   "metadata": {},
   "outputs": [],
   "source": [
    "sql1 = '''CREATE TABLE CONSTRUCTOR_RESULTS (constructorResultsId int NOT NULL,\n",
    "    raceId int NOT NULL,\n",
    "    constructorId int NOT NULL,\n",
    "    points float NOT NULL,\n",
    "    status varchar(3))'''\n",
    "\n",
    "cursor.execute(sql1)\n",
    "\n",
    "sql2 = '''COPY constructor_results(constructorResultsId,raceId,constructorId,points,status)\n",
    "        FROM '/Users/noahhowren/Documents/PITLANE/f1db_csv/constructor_results.csv'\n",
    "        WITH (FORMAT CSV, NULL '\\\\N', HEADER)'''\n",
    "\n",
    "cursor.execute(sql2)"
   ]
  },
  {
   "cell_type": "code",
   "execution_count": 71,
   "metadata": {},
   "outputs": [],
   "source": [
    "sql1 = '''CREATE TABLE CONSTRUCTOR_STANDINGS (constructorStandingsId int NOT NULL,\n",
    "    raceId int NOT NULL,\n",
    "    constructorId int NOT NULL,\n",
    "    points float NOT NULL,\n",
    "    position int NOT NULL,\n",
    "    positionText varchar(10),\n",
    "    wins int NOT NULL)'''\n",
    "\n",
    "cursor.execute(sql1)\n",
    "\n",
    "sql2 = '''COPY constructor_standings(constructorStandingsId,raceId,constructorId,points,position,positionText,wins)\n",
    "        FROM '/Users/noahhowren/Documents/PITLANE/f1db_csv/constructor_standings.csv'\n",
    "        WITH (FORMAT CSV, NULL '\\\\N', HEADER);'''\n",
    "\n",
    "cursor.execute(sql2)"
   ]
  },
  {
   "cell_type": "code",
   "execution_count": 72,
   "metadata": {},
   "outputs": [],
   "source": [
    "sql1 = '''CREATE TABLE CONSTRUCTORS(constructorId int NOT NULL,\n",
    "    constructorRef varchar(50),\n",
    "    name varchar(50),\n",
    "    nationality varchar(50),\n",
    "    url char(100))'''\n",
    "\n",
    "cursor.execute(sql1)\n",
    "\n",
    "sql2 = '''COPY constructors(constructorId,constructorRef,name,nationality,url)\n",
    "        FROM '/Users/noahhowren/Documents/PITLANE/f1db_csv/constructors.csv'\n",
    "        WITH (FORMAT CSV, NULL '\\\\N', HEADER);'''\n",
    "\n",
    "cursor.execute(sql2)"
   ]
  },
  {
   "cell_type": "code",
   "execution_count": 73,
   "metadata": {},
   "outputs": [],
   "source": [
    "sql1 = '''CREATE TABLE DRIVER_STANDINGS(driverStandingsId int NOT NULL,\n",
    "    raceId int NOT NULL,\n",
    "    driverId int NOT NULL,\n",
    "    points float NOT NULL,\n",
    "    position int NOT NULL,\n",
    "    positionText varchar(20),\n",
    "    wins int NOT NULL)'''\n",
    "\n",
    "cursor.execute(sql1)\n",
    "\n",
    "sql2 = '''COPY driver_standings(driverStandingsId,raceId,driverId,points,position,positionText,wins)\n",
    "        FROM '/Users/noahhowren/Documents/PITLANE/f1db_csv/driver_standings.csv'\n",
    "        WITH (FORMAT CSV, NULL '\\\\N', HEADER);'''\n",
    "\n",
    "cursor.execute(sql2)"
   ]
  },
  {
   "cell_type": "code",
   "execution_count": 74,
   "metadata": {},
   "outputs": [],
   "source": [
    "sql1 = '''CREATE TABLE DRIVERS(driverId int NOT NULL,\n",
    "    driverRef varchar(50),\n",
    "    number varchar(10),\n",
    "    code varchar(10),\n",
    "    forename varchar(50),\n",
    "    surname varchar(50),\n",
    "    dob date,\n",
    "    nationality varchar(50),\n",
    "    url varchar(100))'''\n",
    "\n",
    "cursor.execute(sql1)\n",
    "\n",
    "sql2 = '''COPY drivers(driverId,driverRef,number,code,forename,surname,dob,nationality,url)\n",
    "        FROM '/Users/noahhowren/Documents/PITLANE/f1db_csv/drivers.csv'\n",
    "        WITH (FORMAT CSV, NULL '\\\\N', HEADER);'''\n",
    "\n",
    "cursor.execute(sql2)"
   ]
  },
  {
   "cell_type": "code",
   "execution_count": 75,
   "metadata": {},
   "outputs": [],
   "source": [
    "sql1 = '''CREATE TABLE LAP_TIMES(raceId int NOT NULL,\n",
    "    driverId int,\n",
    "    lap int,\n",
    "    position int,\n",
    "    time interval,\n",
    "    milliseconds int)'''\n",
    "\n",
    "cursor.execute(sql1)\n",
    "\n",
    "sql2 = '''COPY lap_times(raceId,driverId,lap,position,time,milliseconds)\n",
    "        FROM '/Users/noahhowren/Documents/PITLANE/f1db_csv/lap_times.csv'\n",
    "        WITH (FORMAT CSV, NULL '\\\\N', HEADER);'''\n",
    "\n",
    "cursor.execute(sql2)"
   ]
  },
  {
   "cell_type": "code",
   "execution_count": 76,
   "metadata": {},
   "outputs": [],
   "source": [
    "sql1 = '''CREATE TABLE PIT_STOPS(raceId int NOT NULL,\n",
    "    driverId int NOT NULL,\n",
    "    stop int NOT NULL,\n",
    "    lap int NOT NULL,\n",
    "    time time,\n",
    "    duration interval,\n",
    "    milliseconds int NOT NULL)'''\n",
    "\n",
    "cursor.execute(sql1)\n",
    "\n",
    "sql2 = '''COPY pit_stops(raceId,driverId,stop,lap,time,duration,milliseconds)\n",
    "        FROM '/Users/noahhowren/Documents/PITLANE/f1db_csv/pit_stops.csv'\n",
    "        WITH (FORMAT CSV, NULL '\\\\N', HEADER);'''\n",
    "\n",
    "cursor.execute(sql2)"
   ]
  },
  {
   "cell_type": "code",
   "execution_count": 79,
   "metadata": {},
   "outputs": [],
   "source": [
    "sql1 = '''CREATE TABLE QUALIFYING(qualifyId int NOT NULL,\n",
    "    raceId int NOT NULL,\n",
    "    driverId int NOT NULL,\n",
    "    constructorId int NOT NULL,\n",
    "    number int NOT NULL,\n",
    "    position int NOT NULL,\n",
    "    q1 interval,\n",
    "    q2 interval,\n",
    "    q3 interval)'''\n",
    "\n",
    "#cursor.execute(sql1)\n",
    "\n",
    "sql2 = '''COPY qualifying(qualifyId,raceId,driverId,constructorId,number,position,q1,q2,q3)\n",
    "        FROM '/Users/noahhowren/Documents/PITLANE/f1db_csv/qualifying.csv'\n",
    "        WITH (FORMAT CSV, NULL '\\\\N', HEADER);'''\n",
    "\n",
    "cursor.execute(sql2)"
   ]
  },
  {
   "cell_type": "code",
   "execution_count": 80,
   "metadata": {},
   "outputs": [],
   "source": [
    "sql1 = '''CREATE TABLE RACES(raceId int NOT NULL,\n",
    "    year int NOT NULL,\n",
    "    round int NOT NULL,\n",
    "    circuitId int NOT NULL,\n",
    "    name varchar(100),\n",
    "    date date,\n",
    "    time time,\n",
    "    url varchar(100),\n",
    "    fp1_date date,\n",
    "    fp1_time time,\n",
    "    fp2_date date,\n",
    "    fp2_time time,\n",
    "    fp3_date date,\n",
    "    fp3_time time,\n",
    "    quali_date date,\n",
    "    quali_time time,\n",
    "    sprint_date date,\n",
    "    sprint_time time)'''\n",
    "\n",
    "cursor.execute(sql1)\n",
    "\n",
    "sql2 = '''COPY races(raceId,year,round,circuitId,name,date,time,url,fp1_date,fp1_time,fp2_date,fp2_time,fp3_date,fp3_time,quali_date,quali_time,sprint_date,sprint_time)\n",
    "        FROM '/Users/noahhowren/Documents/PITLANE/f1db_csv/races.csv'\n",
    "        WITH (FORMAT CSV, NULL '\\\\N', HEADER);'''\n",
    "\n",
    "cursor.execute(sql2)"
   ]
  },
  {
   "cell_type": "code",
   "execution_count": 81,
   "metadata": {},
   "outputs": [],
   "source": [
    "sql1 = '''CREATE TABLE RESULTS(resultId int NOT NULL,\n",
    "    raceId int,\n",
    "    driverId int,\n",
    "    constructorId int,\n",
    "    number varchar(20),\n",
    "    grid varchar(20),\n",
    "    position int,\n",
    "    positionText varchar(10),\n",
    "    positionOrder int,\n",
    "    points float,\n",
    "    laps int,\n",
    "    time interval,\n",
    "    milliseconds int,\n",
    "    fastestLap int,\n",
    "    rank int,\n",
    "    fastestLapTime interval,\n",
    "    fastestLapSpeed float,\n",
    "    statusId varchar(10))'''\n",
    "\n",
    "cursor.execute(sql1)\n",
    "\n",
    "sql2 = '''COPY RESULTS(resultId,raceId,driverId,constructorId,number,grid,position,positionText,positionOrder,points,laps,time,milliseconds,fastestLap,rank,fastestLapTime,fastestLapSpeed,statusId)\n",
    "        FROM '/Users/noahhowren/Documents/PITLANE/f1db_csv/results.csv'\n",
    "        WITH (FORMAT CSV, NULL '\\\\N', HEADER);'''\n",
    "\n",
    "cursor.execute(sql2)"
   ]
  },
  {
   "cell_type": "code",
   "execution_count": 82,
   "metadata": {},
   "outputs": [],
   "source": [
    "sql1 = '''CREATE TABLE SEASONS(year int NOT NULL,\n",
    "    url varchar(100))'''\n",
    "\n",
    "cursor.execute(sql1)\n",
    "\n",
    "sql2 = '''COPY seasons(year,url)\n",
    "        FROM '/Users/noahhowren/Documents/PITLANE/f1db_csv/seasons.csv'\n",
    "        DELIMITER ','\n",
    "        CSV HEADER;'''\n",
    "\n",
    "cursor.execute(sql2)"
   ]
  },
  {
   "cell_type": "code",
   "execution_count": 83,
   "metadata": {},
   "outputs": [],
   "source": [
    "sql1 = '''CREATE TABLE SPRINT_RESULTS(resultId int NOT NULL,\n",
    "    raceId int NOT NULL,\n",
    "    driverId int NOT NULL,\n",
    "    constructorId int NOT NULL,\n",
    "    number int NOT NULL,\n",
    "    grid int,\n",
    "    position int,\n",
    "    positionText varchar(10),\n",
    "    positionOrder int,\n",
    "    points int,\n",
    "    laps int,\n",
    "    time interval,\n",
    "    milliseconds int,\n",
    "    fastestLap int,\n",
    "    fastestLapTime interval,\n",
    "    statusId varchar(10))'''\n",
    "\n",
    "cursor.execute(sql1)\n",
    "\n",
    "sql2 = '''COPY sprint_results(resultId,raceId,driverId,constructorId,number,grid,position,positionText,positionOrder,points,laps,time,milliseconds,fastestLap,fastestLapTime,statusId)\n",
    "        FROM '/Users/noahhowren/Documents/PITLANE/f1db_csv/sprint_results.csv'\n",
    "        WITH (FORMAT CSV, NULL '\\\\N', HEADER);'''\n",
    "\n",
    "cursor.execute(sql2)"
   ]
  },
  {
   "cell_type": "code",
   "execution_count": 84,
   "metadata": {},
   "outputs": [],
   "source": [
    "sql1 = '''CREATE TABLE STATUS(statusId int NOT NULL,\n",
    "status varchar(30))'''\n",
    "\n",
    "cursor.execute(sql1)\n",
    "\n",
    "sql2 = '''COPY status(statusId,status)\n",
    "        FROM '/Users/noahhowren/Documents/PITLANE/f1db_csv/status.csv'\n",
    "        WITH (FORMAT CSV, NULL '\\\\N', HEADER);'''\n",
    "\n",
    "cursor.execute(sql2)"
   ]
  },
  {
   "cell_type": "code",
   "execution_count": null,
   "metadata": {},
   "outputs": [],
   "source": []
  }
 ],
 "metadata": {
  "kernelspec": {
   "display_name": "Python 3.10.4 64-bit",
   "language": "python",
   "name": "python3"
  },
  "language_info": {
   "codemirror_mode": {
    "name": "ipython",
    "version": 3
   },
   "file_extension": ".py",
   "mimetype": "text/x-python",
   "name": "python",
   "nbconvert_exporter": "python",
   "pygments_lexer": "ipython3",
   "version": "3.10.4"
  },
  "orig_nbformat": 4,
  "vscode": {
   "interpreter": {
    "hash": "aee8b7b246df8f9039afb4144a1f6fd8d2ca17a180786b69acc140d282b71a49"
   }
  }
 },
 "nbformat": 4,
 "nbformat_minor": 2
}
